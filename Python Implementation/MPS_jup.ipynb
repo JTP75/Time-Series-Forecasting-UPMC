{
 "cells": [
  {
   "cell_type": "markdown",
   "metadata": {},
   "source": [
    "Imports"
   ]
  },
  {
   "cell_type": "code",
   "execution_count": 1,
   "metadata": {},
   "outputs": [
    {
     "name": "stdout",
     "output_type": "stream",
     "text": [
      "TensorFlow version 2.9.1\n",
      "Available GPU count: 0\n"
     ]
    }
   ],
   "source": [
    "import numpy as np\n",
    "import scipy\n",
    "import pandas\n",
    "import support_fcns as f\n",
    "import tensorflow as tf\n",
    "from scipy.interpolate import interp1d\n",
    "import RNN_architecture as RNNA\n",
    "import ClassDefs\n",
    "\n",
    "RNNA.test_env()"
   ]
  },
  {
   "cell_type": "code",
   "execution_count": 2,
   "metadata": {},
   "outputs": [
    {
     "name": "stdout",
     "output_type": "stream",
     "text": [
      "Loading data set...\n",
      "Load successful!\n",
      "\n"
     ]
    }
   ],
   "source": [
    "\n",
    "print(\"Loading data set...\")\n",
    "\n",
    "try:\n",
    "  mf = pandas.read_excel(r'NEDOC_DATA.xlsx')\n",
    "except:\n",
    "  print(\"Load failed!\\n\")\n",
    "  \n",
    "print(\"Load successful!\\n\")"
   ]
  },
  {
   "cell_type": "code",
   "execution_count": 4,
   "metadata": {},
   "outputs": [
    {
     "name": "stdout",
     "output_type": "stream",
     "text": [
      "score_arr shape: (371232, 1)\n",
      "score_arr shape after downsampling: 61872\n",
      "daymat shape: (1289, 48)\n",
      "Today is 7/9/2021\n"
     ]
    }
   ],
   "source": [
    "fc = ClassDefs.Forecaster(mf)\n",
    "\n",
    "fc.set_split(ClassDefs.Date(7,9,2021))\n",
    "print(\"Today is\", fc.td.dtstr())"
   ]
  }
 ],
 "metadata": {
  "kernelspec": {
   "display_name": "Python 3.10.6 64-bit",
   "language": "python",
   "name": "python3"
  },
  "language_info": {
   "codemirror_mode": {
    "name": "ipython",
    "version": 3
   },
   "file_extension": ".py",
   "mimetype": "text/x-python",
   "name": "python",
   "nbconvert_exporter": "python",
   "pygments_lexer": "ipython3",
   "version": "3.10.6"
  },
  "orig_nbformat": 4,
  "vscode": {
   "interpreter": {
    "hash": "ad401493d552f2dc0b57fd83d4170906ef3593c0ec5d4aed439d044d6e836617"
   }
  }
 },
 "nbformat": 4,
 "nbformat_minor": 2
}
